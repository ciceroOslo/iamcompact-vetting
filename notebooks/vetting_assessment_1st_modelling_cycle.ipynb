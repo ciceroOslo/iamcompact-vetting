{
 "cells": [
  {
   "cell_type": "markdown",
   "metadata": {},
   "source": [
    " # Run IAM COMPACT locally/interactively\n",
    "\n",
    " The code in this notebook shows how to run IAM COMPACT veting checks for the\n",
    " 1st modelling cycle manually and locally on the users' own computers, without\n",
    " being dependent on the I2AM PARIS web platform.\n",
    "\n",
    " The notebook comes in two formats:\n",
    "   * Extension `.ipynb`: A Jupyter notebook. Requires using a Jupyter notebook\n",
    "     server or a locally running Jupyter notebook kernel.\n",
    "   * Extension `.py`: A standard Python file with cell denoted in comments as\n",
    "     starting with `# %%`. Can be used interactively in Visual Studio Code or\n",
    "     other applications that can run Python files interactively and recognizes\n",
    "     the `# %%` cell delimiter. Can also be imported as a module, in which case\n",
    "     the entire file is run non-interactively from top to bottom, and outputs\n",
    "     become available as module attributes.\n",
    "\n",
    " This notebook is specific to 1st modelling cycle and the model result files\n",
    " that were available on the IAM COMPACT SharePoint in July 2024. This includes\n",
    " code to load and fix issues with those specific files. A separate notebbok\n",
    " file, named `vetting_assessment`, can be used if you want to run the code with\n",
    " other model results in hopefully non-problematic IAMC-formatted Excel file."
   ]
  },
  {
   "cell_type": "markdown",
   "metadata": {},
   "source": [
    " # Setup\n",
    ""
   ]
  },
  {
   "cell_type": "markdown",
   "metadata": {},
   "source": [
    " ## Imports\n",
    "\n",
    " Import the required packages."
   ]
  },
  {
   "cell_type": "code",
   "execution_count": null,
   "metadata": {},
   "outputs": [],
   "source": [
    "from pathlib import Path\n",
    "import re\n",
    "\n",
    "import pyam\n",
    "import pandas as pd\n",
    "\n",
    "from iamcompact_vetting.targets.ar6_vetting_targets import (\n",
    "    vetting_targets\n",
    ")\n",
    "from iamcompact_vetting.targets.iamcompact_harmonization_targets import(\n",
    "    IamCompactHarmonizationRatioCriterion,\n",
    "    gdp_pop_harmonization_criterion\n",
    ")\n",
    "from iamcompact_vetting.targets.target_classes import(\n",
    "    CriterionTargetRange,\n",
    ")\n",
    "from iamcompact_vetting.output.base import CriterionTargetRangeOutput\n",
    "from iamcompact_vetting.output.timeseries import (\n",
    "    TimeseriesComparisonFullDataOutput,\n",
    ")\n",
    "from iamcompact_vetting.output.excel import (\n",
    "    DataFrameExcelWriter,\n",
    "    make_valid_excel_sheetname,\n",
    ")\n",
    "\n",
    ""
   ]
  },
  {
   "cell_type": "markdown",
   "metadata": {},
   "source": [
    " ## Set pandas display options\n",
    "\n",
    " We increase the number of rows displayed to make it easier to see full\n",
    " outputs. Decrease or increase as needed."
   ]
  },
  {
   "cell_type": "code",
   "execution_count": null,
   "metadata": {},
   "outputs": [],
   "source": [
    "pd.options.display.min_rows = 250\n",
    "pd.options.display.max_rows = 300\n",
    ""
   ]
  },
  {
   "cell_type": "markdown",
   "metadata": {},
   "source": [
    " ## Get the model/scenario data to be assessed.\n",
    "\n",
    " In the code cell below, add code to load the data you want to assess and\n",
    " assign it to the variable `iam_df`. This can be done either by using\n",
    " `pyam.IamDataFrame` to read from an Excel or CSV file, or by importing\n",
    " your own code that loads and/or processes the data.\n",
    "\n",
    " In this notebook specifically for the 1st modelling cycle, we use import a\n",
    " separate module that loads precompiled data from the Excel files with results\n",
    " from the 1st modelling cycle."
   ]
  },
  {
   "cell_type": "code",
   "execution_count": null,
   "metadata": {},
   "outputs": [],
   "source": [
    "from cycle1_study_model_outputs.cycle1_results import joint_iamdf\n",
    "\n",
    "iam_df: pyam.IamDataFrame = joint_iamdf\n",
    "\n",
    ""
   ]
  },
  {
   "cell_type": "markdown",
   "metadata": {},
   "source": [
    " # Data processing / fixing data issues\n",
    "\n",
    " In the code cell or cells below, add code to fix any errors in the data that\n",
    " you want to fix or do any necessary processing before running the vetting\n",
    " code. The variable `iam_df` must hold the correct data at the end. Add cells\n",
    " as needed, preferably at least one cell per distinct error being fixed.\n",
    "\n",
    " In this notebook for the 1st modelling cycle, there are several cells that\n",
    " make modifications to units, variable names and other aspects that needed to\n",
    " be adjusted to be compatible with the vetting procedures. Each distinct issue\n",
    " is processed in a separate cell under a distinct header.\n",
    ""
   ]
  },
  {
   "cell_type": "markdown",
   "metadata": {},
   "source": [
    " ## Replace faulty unit `MtCO2/yr` with `Mt CO2/yr`\n",
    "\n",
    " The IAMC standard has a space between the mass unit and the gas species name\n",
    " for species-specific mass units."
   ]
  },
  {
   "cell_type": "code",
   "execution_count": null,
   "metadata": {},
   "outputs": [],
   "source": [
    "iam_df = iam_df.rename(\n",
    "    unit={\"MtCO2/yr\": \"Mt CO2/yr\"}\n",
    ")  # pyright: ignore[reportAssignmentType]\n",
    ""
   ]
  },
  {
   "cell_type": "markdown",
   "metadata": {},
   "source": [
    " ## Replace `Carbon Capture` with `Carbon Sequestration|CCS` for PROMETHEUS\n",
    "\n",
    " The PROMETHEUS model uses `Carbon Capture` instead of the name\n",
    " `Carbon Sequestration|CCS` used by the `pathways-ensemble-analysis` package\n",
    " and the AR6 models. Rename it here to make sure that we can use\n",
    " `SingleVariableCriterion` for the \"CCS from energy\" vetting criterion."
   ]
  },
  {
   "cell_type": "code",
   "execution_count": null,
   "metadata": {},
   "outputs": [],
   "source": [
    "prometheus_CCS_df: pyam.IamDataFrame = iam_df.filter(\n",
    "    model='PROMETHEUS V1', variable='Carbon Capture*',  # pyright: ignore[reportAssignmentType]\n",
    ")\n",
    "other_df: pyam.IamDataFrame = iam_df.filter(\n",
    "    model='PROMETHEUS V1', variable='Carbon Capture*', keep=False,  # pyright: ignore[reportAssignmentType]\n",
    ")\n",
    "prometheus_rename_dict: dict[str, str] = {\n",
    "    _varname: _varname.replace(\"Carbon Capture\", \"Carbon Sequestration|CCS\")\n",
    "    for _varname in prometheus_CCS_df.variable  # pyright: ignore[reportAssignmentType]\n",
    "}\n",
    "prometheus_CCS_df = prometheus_CCS_df.rename(\n",
    "    variable=prometheus_rename_dict\n",
    ")  # pyright: ignore[reportAssignmentType]\n",
    "iam_df = pyam.concat([other_df, prometheus_CCS_df])\n",
    "\n",
    "if len(iam_df.filter(variable='Carbon Capture*').variable) > 0:\n",
    "    raise RuntimeError('Unexpected `Carbon Capture` variables remaining.')\n",
    ""
   ]
  },
  {
   "cell_type": "markdown",
   "metadata": {},
   "source": [
    " ## Replace `Energy & Industrial Processes` with `Energy and Industrial Processes` in variable names.\n",
    "\n",
    " The IAMC standard uses \"and\" in variable names rather than \"&\"."
   ]
  },
  {
   "cell_type": "code",
   "execution_count": null,
   "metadata": {},
   "outputs": [],
   "source": [
    "iam_df = iam_df.rename(\n",
    "    variable={\n",
    "        _varname: _varname.replace(\n",
    "            \"Energy & Industrial Processes\", \"Energy and Industrial Processes\"\n",
    "        )\n",
    "        for _varname in iam_df.variable\n",
    "        if 'Energy & Industrial Processes' in _varname\n",
    "    }\n",
    ")  # pyright: ignore[reportAssignmentType]\n",
    ""
   ]
  },
  {
   "cell_type": "markdown",
   "metadata": {},
   "source": [
    " ## Define a new variable `Secondary Energy|Electricity|Wind and Solar`\n",
    "\n",
    " One of the AR6 vetting criteria require a single variable for electricity\n",
    " generated from wind and solar. This was not present in the 1st cycle models,\n",
    " so define it by adding up `Secondary Energy|Electricity|Wind` and\n",
    " `Secondary Energy|Electricity|Solar`."
   ]
  },
  {
   "cell_type": "code",
   "execution_count": null,
   "metadata": {},
   "outputs": [],
   "source": [
    "iam_df = pyam.concat(\n",
    "    [\n",
    "        iam_df,\n",
    "        iam_df.add(\n",
    "            'Secondary Energy|Electricity|Wind',\n",
    "            'Secondary Energy|Electricity|Solar',\n",
    "            'Secondary Energy|Electricity|Wind and Solar',\n",
    "        )\n",
    "    ]\n",
    ")  # pyright: ignore[reportAssignmentType]\n",
    ""
   ]
  },
  {
   "cell_type": "markdown",
   "metadata": {},
   "source": [
    " ## Correct GDP and population unit names\n",
    "\n",
    " GDP variables in the 1st modelling cycle data from some models used currency\n",
    " unit and base-year designations that are now considered non-standard, such\n",
    " as \"\\$US\" or \"US\\$\" instead of \"USD\", putting the base year directly after the\n",
    " currency unit rather than separating them by an underscore, and \"Billion\" with\n",
    " a capital \"B\" instead of \"billion\". The current, correct convention for IAMC\n",
    " formatted files is to use, e.g., \"USD_2010\" or \"USD_2017\" for 2010 and 2017\n",
    " US dollars.\n",
    "\n",
    " For population, some models used \"millions\" plural instead of \"million\", which\n",
    " also needs to be corrected."
   ]
  },
  {
   "cell_type": "code",
   "execution_count": null,
   "metadata": {},
   "outputs": [],
   "source": [
    "def _replace_usd_unit_name(s: str) -> str:\n",
    "    usd_unit_name_pattern = re.compile(r\"(?:US\\$|\\$US)\\s*(\\d{4})\")\n",
    "    return usd_unit_name_pattern.sub(r\"USD_\\1\", s)\n",
    "\n",
    "iam_df = iam_df.rename(\n",
    "    unit={\n",
    "        _unit: _replace_usd_unit_name(_unit).replace(\"Billion\", \"billion\")\n",
    "        for _unit in iam_df.filter(variable='*GDP*').unit\n",
    "    } | {\n",
    "        'millions': 'million'\n",
    "    },\n",
    ")  # pyright: ignore[reportAssignmentType, reportOptionalMemberAccess]\n",
    ""
   ]
  },
  {
   "cell_type": "markdown",
   "metadata": {},
   "source": [
    " ## Rename unspecified `GDP` variable\n",
    "\n",
    " The TIAM result files in the 1st modelling cycle uses a variable `GDP` without\n",
    " specifying whether it is MER or PPP. For vetting, we assume it's PPP and\n",
    " therefore rename it to `GDP|PPP` so that it will match the reference data."
   ]
  },
  {
   "cell_type": "code",
   "execution_count": null,
   "metadata": {},
   "outputs": [],
   "source": [
    "iam_df = iam_df.rename(variable={'GDP': 'GDP|PPP'})  # pyright: ignore[reportAssignmentType]\n",
    ""
   ]
  },
  {
   "cell_type": "markdown",
   "metadata": {},
   "source": [
    " # Assess the AR6 vetting ranges\n",
    "\n",
    " The cells below assess whether the results are in range and how far they are\n",
    " from the target value of each vetting criterion.\n",
    "\n",
    " The procedure uses `vetting_targets`, a list of `CriterionTargetRange`\n",
    " instances, each of which assesses `iam_df` against one of the AR6 vetting\n",
    " criteria. This list is used to produce a list of `CriterionTargetRangeOutput`\n",
    " instances, each of which which uses one of the elements of `vetting_targets`\n",
    " to produce output data structures, each of which are then written to an Excel\n",
    " file using a `DataFrameExcelWriter` instance.\n",
    ""
   ]
  },
  {
   "cell_type": "markdown",
   "metadata": {},
   "source": [
    " First create a `pandas.ExcelWriter` instance which will write to the output\n",
    " Excel file. We need a common `pandas.ExcelWriter` instance for all of the\n",
    " vetting criteria, so that we can write results to different worksheets of the\n",
    " same Excel file.\n",
    "\n",
    " The cell below creates a `pandas.ExcelWriter` instance that will write to the\n",
    " file `vetting_results.xlsx` in the current working directory. Replace the file\n",
    " name with an alternative one or with a Python `Path` object if you wish to\n",
    " write to a differently named file or to a different directory."
   ]
  },
  {
   "cell_type": "code",
   "execution_count": null,
   "metadata": {},
   "outputs": [],
   "source": [
    "results_excel_writer: pd.ExcelWriter = pd.ExcelWriter(\"vetting_results.xlsx\",\n",
    "                                              engine='xlsxwriter')\n",
    ""
   ]
  },
  {
   "cell_type": "markdown",
   "metadata": {},
   "source": [
    " Then create the list of `CriterionTargetRangeOutput` instances, one for each\n",
    " AR6 vetting criterion. Each instance needs a `DataFrameExcelWriter` instance\n",
    " to write the results to a different worksheet of the same Excel file. The\n",
    " worksheets will have the same name as the corresponding vetting criterion, but\n",
    " with the name potentially shortened and with some characters substituted to\n",
    " make sure that they are valid names for Excel worksheets."
   ]
  },
  {
   "cell_type": "code",
   "execution_count": null,
   "metadata": {},
   "outputs": [],
   "source": [
    "vetting_results_outputs: list[\n",
    "    CriterionTargetRangeOutput[DataFrameExcelWriter, None]\n",
    "] = [\n",
    "    CriterionTargetRangeOutput(\n",
    "        criteria=_crit_target,\n",
    "        writer=DataFrameExcelWriter(\n",
    "            results_excel_writer,\n",
    "            sheet_name=make_valid_excel_sheetname(_crit_target.name)\n",
    "        )\n",
    "    )\n",
    "    for _crit_target in vetting_targets\n",
    "]\n",
    ""
   ]
  },
  {
   "cell_type": "markdown",
   "metadata": {},
   "source": [
    " Finally, we call the `write_results` method of each of the\n",
    " `CriterionTargetRangeOutput` instances, to compute the results and write them\n",
    " to the Excel file.\n",
    "\n",
    " The results are also returned as `pandas.DataFrame` objects in the list\n",
    " `vetting_results_frames`.\n",
    "\n",
    " `results_excel_writer.close()` must be called at the end to close and save the\n",
    " Excel file."
   ]
  },
  {
   "cell_type": "code",
   "execution_count": null,
   "metadata": {},
   "outputs": [],
   "source": [
    "vetting_results_frames: list[pd.DataFrame] = []\n",
    "for _output in vetting_results_outputs:\n",
    "    _frame, _ = _output.write_results(iam_df)\n",
    "    vetting_results_frames.append(_frame)\n",
    "results_excel_writer.close()\n",
    ""
   ]
  },
  {
   "cell_type": "markdown",
   "metadata": {},
   "source": [
    " # Assess agreement with harmonisation data for population and GDP.\n",
    "\n",
    " *NB!* The current code below is just a test at the moment. We use a\n",
    " `TimeseriesRefCriterion` with the population and GDP data from harmonization,\n",
    " to test whether it works with the model data.\n",
    "\n",
    " First get just the GDP and Population variables from the data. Assert that it\n",
    " is not None (not necessary, but if you use Python with a type checker, it is\n",
    " needed to avoid a warning, since the `IamDataFrame.filter` method can return\n",
    " None):"
   ]
  },
  {
   "cell_type": "code",
   "execution_count": null,
   "metadata": {},
   "outputs": [],
   "source": [
    "iam_df_pop_gdp = iam_df.filter(variable=['Population', 'GDP|PPP'])\n",
    "assert iam_df_pop_gdp is not None\n",
    ""
   ]
  },
  {
   "cell_type": "markdown",
   "metadata": {},
   "source": [
    " Then define a Path to where you want to write an Excel file with the results\n",
    " at the moment it writes it to the file `gdp_pop_harmonization_assessment.xlsx`\n",
    " in the current working directory, but you can change this to your liking.\n",
    " Consult the Python documentation for `pathlib.Path` if you are unfamiliar with\n",
    " how to use Path objects."
   ]
  },
  {
   "cell_type": "code",
   "execution_count": null,
   "metadata": {},
   "outputs": [],
   "source": [
    "gdp_pop_harmonization_assessment_output_file: Path = \\\n",
    "    Path.cwd() / 'gdp_pop_harmonization_assessment.xlsx'\n",
    ""
   ]
  },
  {
   "cell_type": "markdown",
   "metadata": {},
   "source": [
    " Then create a `DataFrameExcelWriter` instance that will do the actual writing\n",
    " to Excel:"
   ]
  },
  {
   "cell_type": "code",
   "execution_count": null,
   "metadata": {},
   "outputs": [],
   "source": [
    "gdp_pop_harmonization_assessment_writer: DataFrameExcelWriter = \\\n",
    "    DataFrameExcelWriter(\n",
    "        file=gdp_pop_harmonization_assessment_output_file,\n",
    "        sheet_name='Results vs harmonization ratio',\n",
    "    )\n",
    ""
   ]
  },
  {
   "cell_type": "markdown",
   "metadata": {},
   "source": [
    " Define a `TimeseriesComparisonFullDataOutput` instance, which will calculate\n",
    " the results, and use `gdp_pop_harmonization_assessment_writer` to write the\n",
    " results to the Excel file."
   ]
  },
  {
   "cell_type": "code",
   "execution_count": null,
   "metadata": {},
   "outputs": [],
   "source": [
    "gdp_pop_harmonization_assessment_output: \\\n",
    "    TimeseriesComparisonFullDataOutput[\n",
    "        IamCompactHarmonizationRatioCriterion,\n",
    "        DataFrameExcelWriter,\n",
    "        None,\n",
    "] = TimeseriesComparisonFullDataOutput(\n",
    "    criteria=gdp_pop_harmonization_criterion,\n",
    "    writer=gdp_pop_harmonization_assessment_writer\n",
    ")"
   ]
  },
  {
   "cell_type": "code",
   "execution_count": null,
   "metadata": {},
   "outputs": [],
   "source": [
    "gdp_pop_harmonization_result, _ignore = \\\n",
    "    gdp_pop_harmonization_assessment_output.write_results(iam_df_pop_gdp)\n",
    ""
   ]
  },
  {
   "cell_type": "markdown",
   "metadata": {},
   "source": [
    " Then close the workbook to save it."
   ]
  },
  {
   "cell_type": "code",
   "execution_count": null,
   "metadata": {},
   "outputs": [],
   "source": [
    "gdp_pop_harmonization_assessment_output.writer.close()\n",
    ""
   ]
  }
 ],
 "nbformat": 4,
 "nbformat_minor": 2,
 "metadata": {
  "language_info": {
   "codemirror_mode": {
    "name": "ipython",
    "version": 3
   },
   "file_extension": ".py",
   "mimetype": "text/x-python",
   "name": "python",
   "nbconvert_exporter": "python",
   "pygments_lexer": "ipython3",
   "version": 3
  }
 }
}